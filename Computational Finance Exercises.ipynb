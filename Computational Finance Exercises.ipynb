{
 "cells": [
  {
   "cell_type": "markdown",
   "metadata": {},
   "source": [
    "# Computational Finance Exercises"
   ]
  },
  {
   "cell_type": "code",
   "execution_count": 1,
   "metadata": {},
   "outputs": [],
   "source": [
    "import numpy as np\n",
    "import matplotlib.pyplot as plt"
   ]
  },
  {
   "cell_type": "markdown",
   "metadata": {},
   "source": [
    "## Utility and Investments"
   ]
  },
  {
   "cell_type": "code",
   "execution_count": 2,
   "metadata": {},
   "outputs": [],
   "source": [
    "def utility(er, a, sigma):\n",
    "    u = er - 0.5*a*(sigma**2)\n",
    "    return u"
   ]
  },
  {
   "cell_type": "code",
   "execution_count": 3,
   "metadata": {},
   "outputs": [
    {
     "data": {
      "text/plain": [
       "0.05"
      ]
     },
     "execution_count": 3,
     "metadata": {},
     "output_type": "execute_result"
    }
   ],
   "source": [
    "utility(0.05, 2, 0)"
   ]
  },
  {
   "cell_type": "code",
   "execution_count": 4,
   "metadata": {},
   "outputs": [],
   "source": [
    "def expected_return(u, a, sigma):\n",
    "    er = u + 0.5*a*(sigma**2)\n",
    "    return er"
   ]
  },
  {
   "cell_type": "code",
   "execution_count": 5,
   "metadata": {},
   "outputs": [
    {
     "data": {
      "text/plain": [
       "0.060000000000000005"
      ]
     },
     "execution_count": 5,
     "metadata": {},
     "output_type": "execute_result"
    }
   ],
   "source": [
    "expected_return(0.05, 2, 0.1)"
   ]
  },
  {
   "cell_type": "markdown",
   "metadata": {},
   "source": [
    "## Portfolio Return"
   ]
  },
  {
   "cell_type": "code",
   "execution_count": 6,
   "metadata": {},
   "outputs": [],
   "source": [
    "def portfolio_return(weight, ret):\n",
    "    port_ret = 0\n",
    "    for i in range(len(weight)):\n",
    "        port_ret += weight[i]*ret[i]\n",
    "    return port_ret"
   ]
  },
  {
   "cell_type": "code",
   "execution_count": 7,
   "metadata": {},
   "outputs": [
    {
     "data": {
      "text/plain": [
       "10.5"
      ]
     },
     "execution_count": 7,
     "metadata": {},
     "output_type": "execute_result"
    }
   ],
   "source": [
    "weight = [0.5, 0.25, 0.25]\n",
    "ret = [12, 10, 8]\n",
    "portfolio_return(weight, ret)"
   ]
  },
  {
   "cell_type": "markdown",
   "metadata": {},
   "source": [
    "## Simple calculation of covariance for two stocks"
   ]
  },
  {
   "cell_type": "code",
   "execution_count": 8,
   "metadata": {},
   "outputs": [],
   "source": [
    "def covariance(a, b, ma, mb):\n",
    "    w = 0\n",
    "    for i in range(len(a)):\n",
    "        w += ((a[i] - ma)*(b[i] - mb))\n",
    "    return abs(w/(1-len(a)))"
   ]
  },
  {
   "cell_type": "code",
   "execution_count": 9,
   "metadata": {},
   "outputs": [
    {
     "data": {
      "text/plain": [
       "9107.3"
      ]
     },
     "execution_count": 9,
     "metadata": {},
     "output_type": "execute_result"
    }
   ],
   "source": [
    "a = [1692, 1978, 1884, 2151, 2519]\n",
    "b = [68, 102, 110, 112, 154]\n",
    "ma = sum(a)/5\n",
    "mb = sum(b)/5\n",
    "q = covariance(a,b, ma, mb)\n",
    "q"
   ]
  },
  {
   "cell_type": "markdown",
   "metadata": {},
   "source": [
    "## Portfolio Expected Return and Variance"
   ]
  },
  {
   "cell_type": "code",
   "execution_count": 22,
   "metadata": {},
   "outputs": [
    {
     "data": {
      "text/plain": [
       "15.2"
      ]
     },
     "execution_count": 22,
     "metadata": {},
     "output_type": "execute_result"
    }
   ],
   "source": [
    "weight = [0.6, 0.4] \n",
    "ret = [12, 20]\n",
    "portfolio_return(weight, ret)"
   ]
  },
  {
   "cell_type": "code",
   "execution_count": 23,
   "metadata": {},
   "outputs": [],
   "source": [
    "def two_assets_variance(w, std, corr):\n",
    "    return (w[0]**2)*(std[0]**2)+(w[1]**2)*(std[1]**2)+2*w[0]*w[1]*std[0]*std[1]*corr"
   ]
  },
  {
   "cell_type": "code",
   "execution_count": 24,
   "metadata": {},
   "outputs": [
    {
     "data": {
      "text/plain": [
       "0.035136"
      ]
     },
     "execution_count": 24,
     "metadata": {},
     "output_type": "execute_result"
    }
   ],
   "source": [
    "std = [0.16, 0.30]\n",
    "corr = 0.5\n",
    "var = two_assets_variance(weight, std, corr)\n",
    "var"
   ]
  },
  {
   "cell_type": "code",
   "execution_count": 25,
   "metadata": {},
   "outputs": [],
   "source": [
    "def var_to_std(var):\n",
    "    return np.sqrt(var)"
   ]
  },
  {
   "cell_type": "code",
   "execution_count": 26,
   "metadata": {},
   "outputs": [
    {
     "data": {
      "text/plain": [
       "0.1874459922217597"
      ]
     },
     "execution_count": 26,
     "metadata": {},
     "output_type": "execute_result"
    }
   ],
   "source": [
    "var_to_std(var)"
   ]
  },
  {
   "cell_type": "code",
   "execution_count": 27,
   "metadata": {},
   "outputs": [],
   "source": [
    "def plot_change(ret, std, corr):\n",
    "    x, y = [], []\n",
    "    space = np.linspace(-0.0001, 1.0001, 50000)\n",
    "    for i in space:\n",
    "        x.append(var_to_std(two_assets_variance([1-i,i], std, corr)))\n",
    "        y.append(portfolio_return([1-i,i], ret))\n",
    "        \n",
    "    l_x, l_y = x[0], y[0]\n",
    "    for i, j in zip(x, y):\n",
    "        if l_x < i or l_y > j:\n",
    "            break\n",
    "        else:\n",
    "            l_x, l_y = i, j\n",
    "        \n",
    "    print(\"First asset 100%: Risk\", x[0], \", Return\", y[0])\n",
    "    print(\"Second asset 100%: Risk\", x[len(x)-1], \", Return\", y[len(y)-1])\n",
    "    print(\"Best point in terms of overall Risk and Return: Risk\", l_x, \", Return\", l_y)\n",
    "    print(\"We are able to achieve this better result by diversifying between the two portfolios\")\n",
    "    print(\"\")\n",
    "    plt.xlim([0,0.4])\n",
    "    plt.ylim([0,40])\n",
    "    plt.plot(x, y)\n",
    "    plt.xlabel(\"Standard Deviation of portfolio\")\n",
    "    plt.ylabel(\"Expected Portfolio Return\")\n",
    "    plt.title(\"Portfolio return and risk for a two assets portfolio\")"
   ]
  },
  {
   "cell_type": "code",
   "execution_count": 28,
   "metadata": {},
   "outputs": [
    {
     "name": "stdout",
     "output_type": "stream",
     "text": [
      "First asset 100%: Risk 0.1600010021093618 , Return 11.9992\n",
      "Second asset 100%: Risk 0.3000220003199765 , Return 20.000799999999998\n",
      "Best point in terms of overall Risk and Return: Risk 0.15988161300881867 , Return 12.189321818436369\n",
      "We are able to achieve this better result by diversifying between the two portfolios\n",
      "\n"
     ]
    },
    {
     "data": {
      "image/png": "[encoded data removed]",
      "text/plain": [
       "<Figure size 432x288 with 1 Axes>"
      ]
     },
     "metadata": {
      "needs_background": "light"
     },
     "output_type": "display_data"
    }
   ],
   "source": [
    "plot_change(ret, std, corr)"
   ]
  },
  {
   "cell_type": "code",
   "execution_count": 105,
   "metadata": {},
   "outputs": [],
   "source": [
    "def covariance_impact(w, ret, std, corr):\n",
    "    l_x, l_y = [], []\n",
    "    #space = np.linspace(-0.0001, 100.0001, 50000)\n",
    "    for j in corr:\n",
    "        x, y = [], []\n",
    "        for i in w:\n",
    "            x.append(var_to_std(two_assets_variance([i,100-i], std, j)))\n",
    "            y.append(portfolio_return([i,100-i], ret))\n",
    "        #print(x)\n",
    "        l_x.append(x)\n",
    "        l_y.append(y)\n",
    "    \n",
    "    for i in range(len(l_x)):\n",
    "        plt.plot(l_x[i], l_y[i],label=str(corr[i]))\n",
    "        \n",
    "    plt.xlim([0,40])\n",
    "    plt.ylim([0,25])\n",
    "    plt.plot(x, y)\n",
    "    plt.xlabel(\"Standard Deviation of portfolio\")\n",
    "    plt.ylabel(\"Expected Portfolio Return\")\n",
    "    plt.title(\"Impact of correlation on portfolio risk with changing weights of assets\")\n",
    "    plt.legend()\n",
    "    plt.show()"
   ]
  },
  {
   "cell_type": "code",
   "execution_count": 106,
   "metadata": {},
   "outputs": [
    {
     "data": {
      "image/png": "[encoded data removed]",
      "text/plain": [
       "<Figure size 432x288 with 1 Axes>"
      ]
     },
     "metadata": {
      "needs_background": "light"
     },
     "output_type": "display_data"
    }
   ],
   "source": [
    "single_asset_varying_weight = [0, 20, 50, 70, 100]\n",
    "corr = [-1, -0.5, 0, 0.5, 1]\n",
    "ret = [0.12, 0.20]\n",
    "std = [0.16, 0.30]\n",
    "covariance_impact(single_asset_varying_weight, ret, std, corr)"
   ]
  },
  {
   "cell_type": "markdown",
   "metadata": {},
   "source": [
    "## Capital Asset Pricing Model"
   ]
  },
  {
   "cell_type": "code",
   "execution_count": 161,
   "metadata": {},
   "outputs": [],
   "source": [
    "def expected_return(rf, b, e):\n",
    "    er = rf + b*(e-rf)\n",
    "    return er"
   ]
  },
  {
   "cell_type": "code",
   "execution_count": 162,
   "metadata": {},
   "outputs": [
    {
     "data": {
      "text/plain": [
       "0.095"
      ]
     },
     "execution_count": 162,
     "metadata": {},
     "output_type": "execute_result"
    }
   ],
   "source": [
    "expected_return(0.03, 1.3, 0.08)"
   ]
  },
  {
   "cell_type": "markdown",
   "metadata": {},
   "source": [
    "## CAPM Company Expected Returns"
   ]
  },
  {
   "cell_type": "code",
   "execution_count": 163,
   "metadata": {},
   "outputs": [],
   "source": [
    "def beta(market_correlation, returns_deviation, market_deviation):\n",
    "    b = (market_correlation*returns_deviation)/market_deviation\n",
    "    return b"
   ]
  },
  {
   "cell_type": "code",
   "execution_count": 164,
   "metadata": {},
   "outputs": [
    {
     "data": {
      "text/plain": [
       "0.08249999999999999"
      ]
     },
     "execution_count": 164,
     "metadata": {},
     "output_type": "execute_result"
    }
   ],
   "source": [
    "expected_return(0.03, beta(0.6, 0.25, 0.2), 0.1)"
   ]
  }
 ],
 "metadata": {
  "kernelspec": {
   "display_name": "Python 3",
   "language": "python",
   "name": "python3"
  },
  "language_info": {
   "codemirror_mode": {
    "name": "ipython",
    "version": 3
   },
   "file_extension": ".py",
   "mimetype": "text/x-python",
   "name": "python",
   "nbconvert_exporter": "python",
   "pygments_lexer": "ipython3",
   "version": "3.7.3"
  }
 },
 "nbformat": 4,
 "nbformat_minor": 4
}
